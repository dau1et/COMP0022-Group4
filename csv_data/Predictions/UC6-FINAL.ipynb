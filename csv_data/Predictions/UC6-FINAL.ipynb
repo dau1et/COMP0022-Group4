{
 "cells": [
  {
   "cell_type": "code",
   "execution_count": 1,
   "id": "f620302f",
   "metadata": {},
   "outputs": [
    {
     "name": "stdout",
     "output_type": "stream",
     "text": [
      "pdf (1820, 6)\n",
      "rdf (912643, 3)\n",
      "                            user_id  openness  agreeableness  \\\n",
      "0  8e7cebf9a234c064b75016249f2ac65e       5.0            2.0   \n",
      "1  8e7cebf9a234c064b75016249f2ac65e       5.0            2.0   \n",
      "2  b7e8a92987a530cc368719a0e60e26a3       4.0            3.0   \n",
      "3  b7e8a92987a530cc368719a0e60e26a3       4.0            3.0   \n",
      "4  92561f21446e017dd6b68b94b23ad5b7       5.5            5.5   \n",
      "\n",
      "   emotional_stability  conscientiousness  extraversion  movie_id  rating  \\\n",
      "0                  3.0                2.5           6.5         1     5.0   \n",
      "1                  3.0                2.5           6.5         1     5.0   \n",
      "2                  4.5                2.0           2.5         1     3.5   \n",
      "3                  4.5                2.0           2.5         1     3.5   \n",
      "4                  4.0                4.5           4.0         1     2.0   \n",
      "\n",
      "     tag  \n",
      "0  pixar  \n",
      "1    fun  \n",
      "2  pixar  \n",
      "3    fun  \n",
      "4  pixar  \n"
     ]
    }
   ],
   "source": [
    "import pandas as pd\n",
    "import numpy as np\n",
    "\n",
    "from sklearn.metrics import accuracy_score\n",
    "import random\n",
    "import csv\n",
    "\n",
    "personality_data = pd.read_csv('./data/PersonalityData.csv', names=[\"user_id\", \"openness\", \"agreeableness\", \"emotional_stability\", \"conscientiousness\", \"extraversion\"])\n",
    "print(\"pdf\", personality_data.shape)\n",
    "rating_data = pd.read_csv('./data/Rating.csv', names=[\"user_id\", \"movie_id\", \"rating\", \"timestamp\"])\n",
    "rating_data = rating_data.drop(\"timestamp\", axis=1)\n",
    "tag_data = pd.read_csv('./data/MovieTag.csv', names=[\"movie_id\", \"tag\"])\n",
    "\n",
    "print(\"rdf\", rating_data.shape)\n",
    "whole_data = pd.merge(personality_data, rating_data, left_on='user_id', right_on='user_id', how='inner')\n",
    "whole_data = pd.merge(whole_data, tag_data, left_on = 'movie_id', right_on='movie_id', how='inner')\n",
    "print(whole_data.head())"
   ]
  },
  {
   "cell_type": "code",
   "execution_count": 2,
   "id": "93c4f95f",
   "metadata": {},
   "outputs": [],
   "source": [
    "tags = list(set(whole_data['tag']))\n",
    "tags.remove(tags[0])\n",
    "\n",
    "def specificMovieData(table, tag):\n",
    "    return table.loc[table['tag'] == tag]\n",
    "\n",
    "aggregate_personality = []\n",
    "# tag_id_to_tag = []\n",
    "\n",
    "# tag_id = 0\n",
    "\n",
    "for idx in range(len(tags)):\n",
    "    tag = tags[idx]\n",
    "    tag_data = specificMovieData(whole_data,tag)\n",
    "    tag_data = tag_data.drop('user_id', axis=1)\n",
    "    tag_data = tag_data.drop('movie_id', axis=1)\n",
    "    \n",
    "    tag_data[\"openness\"] = tag_data[\"openness\"] * tag_data[\"rating\"]\n",
    "    tag_data[\"agreeableness\"] = tag_data[\"agreeableness\"] * tag_data[\"rating\"]\n",
    "    tag_data[\"emotional_stability\"] = tag_data[\"emotional_stability\"] * tag_data[\"rating\"]\n",
    "    tag_data[\"conscientiousness\"] = tag_data[\"conscientiousness\"] * tag_data[\"rating\"]\n",
    "    tag_data[\"extraversion\"] = tag_data[\"extraversion\"] * tag_data[\"rating\"]\n",
    "    \n",
    "    openness = tag_data[\"openness\"].sum()\n",
    "    agreeableness = tag_data[\"agreeableness\"].sum()\n",
    "    emotional_stability = tag_data[\"emotional_stability\"].sum()\n",
    "    conscientiousness = tag_data[\"conscientiousness\"].sum()\n",
    "    extraversion = tag_data[\"extraversion\"].sum()\n",
    "    \n",
    "    tag_personality = [tag, openness, agreeableness, emotional_stability, conscientiousness, extraversion]\n",
    "    aggregate_personality.append(tag_personality)\n",
    "#     tag_id_to_tag.append([tag_id, tag])\n",
    "    \n",
    "#     tag_id += 1\n",
    "\n",
    "#movie_id tag openness agreeableness emotional_stability conscientiousness extraversion\n",
    "    "
   ]
  },
  {
   "cell_type": "code",
   "execution_count": 3,
   "id": "f3056236",
   "metadata": {},
   "outputs": [],
   "source": [
    "with open('./data/TagPersonalities.csv', 'w') as f:\n",
    "    w = csv.writer(f)\n",
    "    w.writerows(aggregate_personality)\n",
    "    \n",
    "# with open('./data/Tags.csv', 'w') as f:\n",
    "#     w = csv.writer(f)\n",
    "#     w.writerows(tag_id_to_tag)\n",
    "    "
   ]
  }
 ],
 "metadata": {
  "kernelspec": {
   "display_name": "Python 3",
   "language": "python",
   "name": "python3"
  },
  "language_info": {
   "codemirror_mode": {
    "name": "ipython",
    "version": 3
   },
   "file_extension": ".py",
   "mimetype": "text/x-python",
   "name": "python",
   "nbconvert_exporter": "python",
   "pygments_lexer": "ipython3",
   "version": "3.8.8"
  }
 },
 "nbformat": 4,
 "nbformat_minor": 5
}
