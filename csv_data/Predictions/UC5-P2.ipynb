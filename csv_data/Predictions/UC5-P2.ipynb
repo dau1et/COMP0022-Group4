{
 "cells": [
  {
   "cell_type": "code",
   "execution_count": 1,
   "id": "e08d9ff9",
   "metadata": {},
   "outputs": [
    {
     "name": "stdout",
     "output_type": "stream",
     "text": [
      "pdf (1820, 6)\n",
      "rdf (912643, 3)\n",
      "                            user_id  openness  agreeableness  \\\n",
      "0  8e7cebf9a234c064b75016249f2ac65e       5.0            2.0   \n",
      "1  8e7cebf9a234c064b75016249f2ac65e       5.0            2.0   \n",
      "2  8e7cebf9a234c064b75016249f2ac65e       5.0            2.0   \n",
      "3  8e7cebf9a234c064b75016249f2ac65e       5.0            2.0   \n",
      "4  8e7cebf9a234c064b75016249f2ac65e       5.0            2.0   \n",
      "\n",
      "   emotional_stability  conscientiousness  extraversion  movie_id  rating  \n",
      "0                  3.0                2.5           6.5         1     5.0  \n",
      "1                  3.0                2.5           6.5         2     4.0  \n",
      "2                  3.0                2.5           6.5         3     4.0  \n",
      "3                  3.0                2.5           6.5         5     5.0  \n",
      "4                  3.0                2.5           6.5         6     4.0  \n"
     ]
    }
   ],
   "source": [
    "import pandas as pd\n",
    "import numpy as np\n",
    "from sklearn.model_selection import train_test_split\n",
    "from sklearn.preprocessing import StandardScaler\n",
    "from sklearn.model_selection import cross_val_score\n",
    "from sklearn.neighbors import KNeighborsRegressor\n",
    "\n",
    "from sklearn.metrics import accuracy_score\n",
    "import random\n",
    "import csv\n",
    "\n",
    "personality_data = pd.read_csv('./data/PersonalityData.csv', names=[\"user_id\", \"openness\", \"agreeableness\", \"emotional_stability\", \"conscientiousness\", \"extraversion\"])\n",
    "print(\"pdf\", personality_data.shape)\n",
    "rating_data = pd.read_csv('./data/Rating.csv', names=[\"user_id\", \"movie_id\", \"rating\", \"timestamp\"])\n",
    "rating_data = rating_data.drop(\"timestamp\", axis=1)\n",
    "\n",
    "print(\"rdf\", rating_data.shape)\n",
    "whole_data = pd.merge(personality_data, rating_data, left_on='user_id', right_on='user_id', how='left')\n",
    "print(whole_data.head())\n"
   ]
  },
  {
   "cell_type": "code",
   "execution_count": 2,
   "id": "abc9d969",
   "metadata": {},
   "outputs": [],
   "source": [
    "def specificMovieData(table, movie_id):\n",
    "    return table.loc[table['movie_id'] == movie_id]\n",
    "\n",
    "movie_ids = sorted(set(whole_data['movie_id']))\n",
    "\n",
    "predicted_ratings = []\n",
    "\n",
    "data = [[5,0,0,0,0], [0,5,0,0,0], [0,0,5,0,0], [0,0,0,5,0], [0,0,0,0,5]]\n",
    "\n",
    "for movie_id in movie_ids:\n",
    "    y_predicted = []\n",
    "    movie_data = specificMovieData(whole_data, movie_id)\n",
    "    movie_data = movie_data.drop('user_id', axis=1)\n",
    "    movie_data = movie_data.drop('movie_id', axis=1)\n",
    "    \n",
    "    overall_rating = movie_data['rating'].sum()/movie_data.shape[0]\n",
    "    predicted_rating = 0\n",
    "    \n",
    "    if len(movie_data) > 5:\n",
    "        #drop output column for x_train and set y_train to output column\n",
    "        X, y = movie_data.drop(\"rating\", axis=1), movie_data[\"rating\"].copy()\n",
    "        #prediction based off 20% of the viewers\n",
    "        X_train, X_test, y_train, y_test = train_test_split(X, y, test_size=0.2)\n",
    "        #scale data since they are all in different units\n",
    "\n",
    "        #Create and fit the model\n",
    "        model = KNeighborsRegressor(n_neighbors=3)\n",
    "\n",
    "        #Fit the model using the training data\n",
    "        model.fit(X_train,y_train)\n",
    "        \n",
    "        #Predict unseen data\n",
    "        y_predicted = list(model.predict(data))\n",
    "\n",
    "    else:\n",
    "        for i in range(0, 5):\n",
    "            y_predicted.append((movie_data.iloc[0, i] / 10) * movie_data.iloc[0, 5])\n",
    "            \n",
    "    y_predicted.insert(0,movie_id)\n",
    "    predicted_ratings.append(y_predicted)\n",
    "    \n",
    "with open('./data/PredictedPersonalityRatings.csv', 'w') as f:\n",
    "    w = csv.writer(f)\n",
    "    w.writerows(predicted_ratings)\n"
   ]
  },
  {
   "cell_type": "code",
   "execution_count": 3,
   "id": "4c371c25",
   "metadata": {},
   "outputs": [],
   "source": [
    "with open('./data/PredictedPersonalityRatings.csv', 'w') as f:\n",
    "    w = csv.writer(f)\n",
    "    w.writerows(predicted_ratings)\n"
   ]
  },
  {
   "cell_type": "code",
   "execution_count": null,
   "id": "d63096eb",
   "metadata": {},
   "outputs": [],
   "source": []
  }
 ],
 "metadata": {
  "kernelspec": {
   "display_name": "Python 3",
   "language": "python",
   "name": "python3"
  },
  "language_info": {
   "codemirror_mode": {
    "name": "ipython",
    "version": 3
   },
   "file_extension": ".py",
   "mimetype": "text/x-python",
   "name": "python",
   "nbconvert_exporter": "python",
   "pygments_lexer": "ipython3",
   "version": "3.8.8"
  }
 },
 "nbformat": 4,
 "nbformat_minor": 5
}
