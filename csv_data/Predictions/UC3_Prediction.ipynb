{
 "cells": [
  {
   "cell_type": "code",
   "execution_count": 1,
   "id": "1c554d1f",
   "metadata": {},
   "outputs": [
    {
     "name": "stdout",
     "output_type": "stream",
     "text": [
      "pdf (1820, 6)\n",
      "rdf (1028751, 3)\n",
      "                            user_id  openness  agreeableness  \\\n",
      "0  8e7cebf9a234c064b75016249f2ac65e       5.0            2.0   \n",
      "1  8e7cebf9a234c064b75016249f2ac65e       5.0            2.0   \n",
      "2  8e7cebf9a234c064b75016249f2ac65e       5.0            2.0   \n",
      "3  8e7cebf9a234c064b75016249f2ac65e       5.0            2.0   \n",
      "4  8e7cebf9a234c064b75016249f2ac65e       5.0            2.0   \n",
      "\n",
      "   emotional_stability  conscientiousness  extraversion  movie_id  rating  \n",
      "0                  3.0                2.5           6.5         1     5.0  \n",
      "1                  3.0                2.5           6.5         2     4.0  \n",
      "2                  3.0                2.5           6.5         3     4.0  \n",
      "3                  3.0                2.5           6.5         5     5.0  \n",
      "4                  3.0                2.5           6.5         6     4.0  \n"
     ]
    }
   ],
   "source": [
    "import pandas as pd\n",
    "import numpy as np\n",
    "from sklearn.model_selection import train_test_split\n",
    "from sklearn.preprocessing import StandardScaler\n",
    "from sklearn.model_selection import cross_val_score\n",
    "from sklearn.neighbors import KNeighborsRegressor\n",
    "\n",
    "from sklearn.metrics import accuracy_score\n",
    "import random\n",
    "import csv\n",
    "\n",
    "personality_data = pd.read_csv('./data/PersonalityData.csv', names=[\"user_id\", \"openness\", \"agreeableness\", \"emotional_stability\", \"conscientiousness\", \"extraversion\"])\n",
    "print(\"pdf\", personality_data.shape)\n",
    "rating_data = pd.read_csv('./data/Rating.csv', names=[\"user_id\", \"movie_id\", \"rating\", \"timestamp\"])\n",
    "rating_data = rating_data.drop(\"timestamp\", axis=1)\n",
    "\n",
    "print(\"rdf\", rating_data.shape)\n",
    "whole_data = pd.merge(personality_data, rating_data, left_on='user_id', right_on='user_id', how='left')\n",
    "print(whole_data.head())\n"
   ]
  },
  {
   "cell_type": "code",
   "execution_count": 2,
   "id": "d7ca1e52",
   "metadata": {},
   "outputs": [],
   "source": [
    "def specificMovieData(table, movie_id):\n",
    "    return table.loc[table['movie_id'] == movie_id]\n",
    "\n",
    "movie_ids = sorted(set(whole_data['movie_id']))\n",
    "\n",
    "predicted_ratings = []\n",
    "\n",
    "for movie_id in movie_ids:\n",
    "    \n",
    "    movie_data = specificMovieData(whole_data, movie_id)\n",
    "    movie_data = movie_data.drop('user_id', axis=1)\n",
    "    movie_data = movie_data.drop('movie_id', axis=1)\n",
    "    movie_data['rating'] = movie_data['rating']\n",
    "    \n",
    "    overall_rating = movie_data['rating'].sum()/movie_data.shape[0]\n",
    "    predicted_rating = 0\n",
    "    \n",
    "    if len(movie_data) > 5:\n",
    "        #drop output column for x_train and set y_train to output column\n",
    "        X, y = movie_data.drop(\"rating\", axis=1), movie_data[\"rating\"].copy()\n",
    "        #prediction based off 20% of the viewers\n",
    "        X_train, X_test, y_train, y_test = train_test_split(X, y, test_size=0.2)\n",
    "        #scale data since they are all in different units\n",
    "        scaler = StandardScaler() \n",
    "        X_train = scaler.fit_transform(X_train)\n",
    "        X_test = scaler.transform(X_test)\n",
    "\n",
    "        #Create and fit the model\n",
    "        model = KNeighborsRegressor(n_neighbors=3)\n",
    "\n",
    "        #Fit the model using the training data\n",
    "        model.fit(X_train,y_train)\n",
    "\n",
    "        #Predict unseen data\n",
    "        y_predicted = model.predict(X_test)\n",
    "        predicted_rating = sum(y_predicted)/len(y_predicted)  \n",
    "        \n",
    "    else:\n",
    "        predicted_rating = overall_rating + random.uniform(-0.201, 0.201)\n",
    "    predicted_rating = max(min(predicted_rating, 5), 0) #between 0 and 5\n",
    "    \n",
    "    predicted_ratings.append(str(movie_id) + \",\" + str(round(predicted_rating, 2)) + \",\" + str(round(overall_rating, 2)))\n",
    "    \n",
    "    \n",
    "with open('./data/PredictedMovieRatings.csv', 'w') as f:\n",
    "    w = csv.writer(f, delimiter = ',')\n",
    "    w.writerows([x.split(',') for x in predicted_ratings])\n",
    "    \n"
   ]
  }
 ],
 "metadata": {
  "kernelspec": {
   "display_name": "Python 3",
   "language": "python",
   "name": "python3"
  },
  "language_info": {
   "codemirror_mode": {
    "name": "ipython",
    "version": 3
   },
   "file_extension": ".py",
   "mimetype": "text/x-python",
   "name": "python",
   "nbconvert_exporter": "python",
   "pygments_lexer": "ipython3",
   "version": "3.8.8"
  }
 },
 "nbformat": 4,
 "nbformat_minor": 5
}
